{
 "cells": [
  {
   "cell_type": "code",
   "execution_count": 1,
   "metadata": {},
   "outputs": [],
   "source": [
    "import cooler\n",
    "import numpy as np\n",
    "import matplotlib.pyplot as plt\n",
    "import seaborn as sns\n",
    "from multiprocessing import Pool\n",
    "import pandas as pd\n",
    "import numpy\n",
    "\n",
    "threshold = 0.8\n",
    "from methods import *"
   ]
  },
  {
   "cell_type": "markdown",
   "metadata": {},
   "source": [
    "### Matrix to work on:"
   ]
  },
  {
   "cell_type": "code",
   "execution_count": 6,
   "metadata": {},
   "outputs": [
    {
     "data": {
      "text/plain": [
       "200000"
      ]
     },
     "execution_count": 6,
     "metadata": {},
     "output_type": "execute_result"
    }
   ],
   "source": [
    "c = cooler.Cooler('Reso_matrix.cool::/resolutions/200000')\n",
    "c.info['bin-size']"
   ]
  },
  {
   "cell_type": "markdown",
   "metadata": {},
   "source": [
    "### Get full Obs/Exp matrix for all chromosomes:"
   ]
  },
  {
   "cell_type": "code",
   "execution_count": null,
   "metadata": {},
   "outputs": [],
   "source": [
    "def all_oe(c):\n",
    "    all_df = []\n",
    "    for current_chr in c.chromnames:\n",
    "        mat = c.matrix(balance=False).fetch(current_chr)\n",
    "        mat_nan = zeros_to_nan(mat)\n",
    "        mat_norm = normalize_intra(mat_nan)\n",
    "    \n",
    "        df = pd.DataFrame(mat_norm)\n",
    "        df = df.stack(dropna = True)\n",
    "        df = df.to_frame()\n",
    "        df.reset_index(inplace=True)  \n",
    "        df.columns = ['bin1', 'bin2', 'HiC_score']\n",
    "        df['chrom1'] = current_chr\n",
    "    \n",
    "        all_df.append(df)\n",
    "    \n",
    "    return pd.concat(all_df, ignore_index=True)"
   ]
  },
  {
   "cell_type": "code",
   "execution_count": null,
   "metadata": {},
   "outputs": [],
   "source": [
    "oe = all_oe(c)"
   ]
  },
  {
   "cell_type": "code",
   "execution_count": null,
   "metadata": {},
   "outputs": [],
   "source": [
    "oe.to_csv('oe_200k.csv')"
   ]
  }
 ],
 "metadata": {
  "kernelspec": {
   "display_name": "Python 3",
   "language": "python",
   "name": "python3"
  },
  "language_info": {
   "codemirror_mode": {
    "name": "ipython",
    "version": 3
   },
   "file_extension": ".py",
   "mimetype": "text/x-python",
   "name": "python",
   "nbconvert_exporter": "python",
   "pygments_lexer": "ipython3",
   "version": "3.5.3"
  }
 },
 "nbformat": 4,
 "nbformat_minor": 4
}
